{
 "cells": [
  {
   "cell_type": "markdown",
   "metadata": {},
   "source": [
    "---\n",
    "# COVID19 death rates South Africa\n",
    "---"
   ]
  },
  {
   "cell_type": "markdown",
   "metadata": {},
   "source": [
    "#### Get data from:\n",
    "\n",
    "COVID-19 Data Repository by the Center for Systems Science and Engineering (CSSE) at Johns Hopkins University\n",
    "\n",
    "\n",
    "https://github.com/CSSEGISandData/COVID-19.git"
   ]
  },
  {
   "cell_type": "code",
   "execution_count": 1,
   "metadata": {},
   "outputs": [],
   "source": [
    "%%bash\n",
    "#git clone https://github.com/CSSEGISandData/COVID-19.git\n",
    "#cd COVID-19/\n",
    "#git status COVID-19/\n",
    "#git pull\n",
    "#git status COVID-19/"
   ]
  },
  {
   "cell_type": "code",
   "execution_count": 2,
   "metadata": {},
   "outputs": [],
   "source": [
    "%%capture\n",
    "%%bash\n",
    "rm -rf time_series_covid19_*\n",
    "wget https://raw.githubusercontent.com/CSSEGISandData/COVID-19/master/csse_covid_19_data/csse_covid_19_time_series/time_series_covid19_deaths_global.csv\n",
    "wget https://raw.githubusercontent.com/CSSEGISandData/COVID-19/master/csse_covid_19_data/csse_covid_19_time_series/time_series_covid19_confirmed_global.csv"
   ]
  },
  {
   "cell_type": "code",
   "execution_count": 3,
   "metadata": {},
   "outputs": [],
   "source": [
    "import pandas as pd\n",
    "import numpy as np\n",
    "import matplotlib.pyplot as plt\n",
    "import seaborn as sns\n",
    "from pandas.plotting import register_matplotlib_converters\n",
    "register_matplotlib_converters()\n",
    "import statsmodels.api as sm\n",
    "from IPython.display import HTML, display\n",
    "import time"
   ]
  },
  {
   "cell_type": "markdown",
   "metadata": {},
   "source": [
    "#### Date and time"
   ]
  },
  {
   "cell_type": "code",
   "execution_count": 4,
   "metadata": {},
   "outputs": [
    {
     "name": "stdout",
     "output_type": "stream",
     "text": [
      "It is now Sat Jul 11 09:47:07 2020 GMT+2\n"
     ]
    }
   ],
   "source": [
    "print(f'It is now {time.ctime()} GMT+2')"
   ]
  },
  {
   "cell_type": "markdown",
   "metadata": {},
   "source": [
    "---\n",
    "\n",
    "### Confirmed cases and deaths\n",
    "\n",
    "---"
   ]
  },
  {
   "cell_type": "code",
   "execution_count": 5,
   "metadata": {},
   "outputs": [],
   "source": [
    "# confirmed\n",
    "country = 'South Africa'\n",
    "confirmedGlobal = pd.read_csv(\"time_series_covid19_confirmed_global.csv\")\n",
    "confirmedSA = confirmedGlobal[confirmedGlobal['Country/Region'] == country]\n",
    "confirmedSA = confirmedSA.drop(['Province/State', 'Country/Region', 'Lat', 'Long'], axis=1)\n",
    "confirmedSA = pd.DataFrame(confirmedSA.sum(axis=0))\n",
    "confirmedSA = confirmedSA.reset_index()\n",
    "confirmedSA.columns = ['Date', 'Confirmed']\n",
    "confirmedSA['Date'] = pd.to_datetime(confirmedSA['Date'], format='%m/%d/%y')\n",
    "\n",
    "# Deaths\n",
    "deathsGlobal = pd.read_csv(\"time_series_covid19_deaths_global.csv\")\n",
    "deathsSA = deathsGlobal[deathsGlobal['Country/Region'] == country]\n",
    "deathsSA = deathsSA.drop(['Province/State', 'Country/Region', 'Lat', 'Long'], axis=1)\n",
    "deathsSA = pd.DataFrame(deathsSA.sum(axis=0))\n",
    "deathsSA = deathsSA.reset_index()\n",
    "deathsSA.columns = ['Date', 'Deaths']\n",
    "deathsSA['Date'] = pd.to_datetime(deathsSA['Date'], format='%m/%d/%y')\n"
   ]
  },
  {
   "cell_type": "markdown",
   "metadata": {},
   "source": [
    "#### Table of last 5 rows"
   ]
  },
  {
   "cell_type": "code",
   "execution_count": 6,
   "metadata": {},
   "outputs": [
    {
     "data": {
      "text/html": [
       "<div>\n",
       "<style scoped>\n",
       "    .dataframe tbody tr th:only-of-type {\n",
       "        vertical-align: middle;\n",
       "    }\n",
       "\n",
       "    .dataframe tbody tr th {\n",
       "        vertical-align: top;\n",
       "    }\n",
       "\n",
       "    .dataframe thead th {\n",
       "        text-align: right;\n",
       "    }\n",
       "</style>\n",
       "<table border=\"1\" class=\"dataframe\">\n",
       "  <thead>\n",
       "    <tr style=\"text-align: right;\">\n",
       "      <th></th>\n",
       "      <th>Date</th>\n",
       "      <th>Confirmed</th>\n",
       "      <th>Deaths</th>\n",
       "      <th>DaysFromFirst</th>\n",
       "    </tr>\n",
       "  </thead>\n",
       "  <tbody>\n",
       "    <tr>\n",
       "      <td>166</td>\n",
       "      <td>2020-07-06</td>\n",
       "      <td>205721</td>\n",
       "      <td>3310</td>\n",
       "      <td>123</td>\n",
       "    </tr>\n",
       "    <tr>\n",
       "      <td>167</td>\n",
       "      <td>2020-07-07</td>\n",
       "      <td>215855</td>\n",
       "      <td>3502</td>\n",
       "      <td>124</td>\n",
       "    </tr>\n",
       "    <tr>\n",
       "      <td>168</td>\n",
       "      <td>2020-07-08</td>\n",
       "      <td>224665</td>\n",
       "      <td>3602</td>\n",
       "      <td>125</td>\n",
       "    </tr>\n",
       "    <tr>\n",
       "      <td>169</td>\n",
       "      <td>2020-07-09</td>\n",
       "      <td>238339</td>\n",
       "      <td>3720</td>\n",
       "      <td>126</td>\n",
       "    </tr>\n",
       "    <tr>\n",
       "      <td>170</td>\n",
       "      <td>2020-07-10</td>\n",
       "      <td>250687</td>\n",
       "      <td>3860</td>\n",
       "      <td>127</td>\n",
       "    </tr>\n",
       "  </tbody>\n",
       "</table>\n",
       "</div>"
      ],
      "text/plain": [
       "          Date  Confirmed  Deaths  DaysFromFirst\n",
       "166 2020-07-06     205721    3310            123\n",
       "167 2020-07-07     215855    3502            124\n",
       "168 2020-07-08     224665    3602            125\n",
       "169 2020-07-09     238339    3720            126\n",
       "170 2020-07-10     250687    3860            127"
      ]
     },
     "execution_count": 6,
     "metadata": {},
     "output_type": "execute_result"
    }
   ],
   "source": [
    "# merge\n",
    "\n",
    "SAdf = pd.merge(confirmedSA, deathsSA)\n",
    "\n",
    "#Remove the first zero values from the confirmed column\n",
    "SAdf = SAdf[SAdf['Confirmed'] > 0]\n",
    "\n",
    "SAdf['DaysFromFirst'] = (SAdf['Date'] - SAdf.iloc[0,0]).dt.days\n",
    "\n",
    "SAdf.tail()\n"
   ]
  },
  {
   "cell_type": "code",
   "execution_count": 7,
   "metadata": {},
   "outputs": [
    {
     "data": {
      "image/png": "[encoded data removed]",
      "text/plain": [
       "<Figure size 720x432 with 1 Axes>"
      ]
     },
     "metadata": {
      "needs_background": "light"
     },
     "output_type": "display_data"
    }
   ],
   "source": [
    "plt.figure(figsize=(10,6))\n",
    "sns.lineplot(x='Date', y='Confirmed', data=SAdf)\n",
    "sns.lineplot(x='Date', y='Deaths', data=SAdf)\n",
    "plt.legend(['Confirmed','Deaths'])\n",
    "plt.legend(['Confirmed','Deaths'], loc=2)\n",
    "plt.ylabel(\"COVID19 cases and deaths\")\n",
    "plt.vlines(x='2020-03-27', ymin=0, ymax=SAdf['Confirmed'].max(), ls=\"dotted\")\n",
    "plt.text(x='2020-03-28', y=SAdf['Confirmed'].max(), s='Lockdown: 27 Mar 20')\n",
    "plt.text(x=SAdf.iloc[-7,0], y=SAdf.iloc[-1,1], s=SAdf.iloc[-1,1])\n",
    "plt.text(x=SAdf.iloc[-1,0], y=SAdf.iloc[-1,2], s=SAdf.iloc[-1,2])\n",
    "plt.title('Number of cases and deaths, linear scale')\n",
    "plt.xticks(rotation=90);\n",
    "\n"
   ]
  },
  {
   "cell_type": "code",
   "execution_count": 8,
   "metadata": {},
   "outputs": [
    {
     "data": {
      "image/png": "[encoded data removed]",
      "text/plain": [
       "<Figure size 720x432 with 1 Axes>"
      ]
     },
     "metadata": {
      "needs_background": "light"
     },
     "output_type": "display_data"
    }
   ],
   "source": [
    "stages = {'S-5': '2020-03-27',\n",
    "         'S-4': '2020-05-01',\n",
    "         'S-3': '2020-06-01'}\n",
    "\n",
    "plt.figure(figsize=(10,6))\n",
    "sns.lineplot(x='Date', y='Confirmed', data=SAdf)\n",
    "sns.lineplot(x='Date', y='Deaths', data=SAdf)\n",
    "plt.legend(['Confirmed','Deaths'], loc=2)\n",
    "plt.yscale('log')\n",
    "\n",
    "for stage in stages.keys():\n",
    "    plt.vlines(x=stages[stage], ymin=0, ymax=SAdf.iloc[-1,1], ls=\"dotted\")\n",
    "    plt.text(x=stages[stage], y=SAdf.iloc[-1,1], s='{}: {}'.format(stage, stages[stage]), fontsize=8)\n",
    "\n",
    "\n",
    "plt.xlim(SAdf.iloc[0,0], '2020-06-10')\n",
    "plt.ylabel(\"COVID19 cases and deaths\")\n",
    "plt.title('Number of cases and deaths, logarithmic scale')\n",
    "plt.xticks(rotation=90);"
   ]
  },
  {
   "cell_type": "code",
   "execution_count": 9,
   "metadata": {},
   "outputs": [],
   "source": [
    "SAdf['Lockdown'] = SAdf['Date'] > '2020-03-27'\n",
    "SAdf['LogConfirmed'] = np.log10(SAdf['Confirmed'])\n"
   ]
  },
  {
   "cell_type": "code",
   "execution_count": 10,
   "metadata": {},
   "outputs": [],
   "source": [
    "mOpen = sm.OLS(SAdf[SAdf['Lockdown'] == False]['LogConfirmed'], \n",
    "               SAdf[SAdf['Lockdown'] == False]['DaysFromFirst']).fit()\n",
    "mClose = sm.OLS(SAdf[SAdf['Lockdown'] == True]['LogConfirmed'], \n",
    "               SAdf[SAdf['Lockdown'] == True]['DaysFromFirst']).fit()"
   ]
  },
  {
   "cell_type": "code",
   "execution_count": 11,
   "metadata": {},
   "outputs": [
    {
     "data": {
      "image/png": "[encoded data removed]",
      "text/plain": [
       "<Figure size 720x432 with 1 Axes>"
      ]
     },
     "metadata": {
      "needs_background": "light"
     },
     "output_type": "display_data"
    }
   ],
   "source": [
    "plt.figure(figsize=(10,6))\n",
    "\n",
    "sns.regplot(x='DaysFromFirst', y='LogConfirmed', data=SAdf[SAdf['Lockdown'] == True], \n",
    "            color='grey', marker='')\n",
    "sns.regplot(x='DaysFromFirst', y='LogConfirmed', data=SAdf[SAdf['Lockdown'] == False], \n",
    "            color='grey', marker='')\n",
    "sns.scatterplot(x='DaysFromFirst', y='LogConfirmed', data=SAdf, hue='Lockdown')\n",
    "plt.text(12, 1.5, np.round(mOpen.params[0], 4))\n",
    "plt.text(45, 3.8, np.round(mClose.params[0], 4))\n",
    "plt.vlines(x=22, ymin=0, ymax=4, linestyles=('dotted'), colors='grey')\n",
    "plt.text(22, 4.1, 'Lockdown')\n",
    "plt.ylabel(\"COVID19 cases, Log10\")\n",
    "plt.title('Rates of cases, pre and post lockdown')\n",
    "plt.xticks(rotation=90);\n"
   ]
  },
  {
   "cell_type": "markdown",
   "metadata": {},
   "source": [
    "---\n",
    "\n",
    "### Death Rates\n",
    "\n",
    "---"
   ]
  },
  {
   "cell_type": "markdown",
   "metadata": {},
   "source": [
    "---\n",
    "### Model 1\n",
    "#### Most naive"
   ]
  },
  {
   "cell_type": "markdown",
   "metadata": {},
   "source": [
    "**The simplest** is to plot deaths against confirmed SARS-COV2 positive people and use the slope to estimate this death rate.\n",
    "\n",
    "* No account for asymptomatic people\n",
    "* No adjustment from onset of symptoms to death\n",
    "* No account for delays in reporting deaths or confirmed cases"
   ]
  },
  {
   "cell_type": "code",
   "execution_count": 12,
   "metadata": {},
   "outputs": [
    {
     "data": {
      "image/png": "[encoded data removed]",
      "text/plain": [
       "<Figure size 720x432 with 1 Axes>"
      ]
     },
     "metadata": {
      "needs_background": "light"
     },
     "output_type": "display_data"
    }
   ],
   "source": [
    "plt.figure(figsize=(10,6))\n",
    "sns.regplot(x='Confirmed', y='Deaths', data=SAdf)\n",
    "plt.title('Model 1');"
   ]
  },
  {
   "cell_type": "code",
   "execution_count": 13,
   "metadata": {},
   "outputs": [
    {
     "data": {
      "text/html": [
       "<table class=\"simpletable\">\n",
       "<caption>OLS Regression Results</caption>\n",
       "<tr>\n",
       "  <th>Dep. Variable:</th>         <td>Deaths</td>      <th>  R-squared (uncentered):</th>      <td>   0.989</td> \n",
       "</tr>\n",
       "<tr>\n",
       "  <th>Model:</th>                   <td>OLS</td>       <th>  Adj. R-squared (uncentered):</th> <td>   0.988</td> \n",
       "</tr>\n",
       "<tr>\n",
       "  <th>Method:</th>             <td>Least Squares</td>  <th>  F-statistic:       </th>          <td>1.094e+04</td>\n",
       "</tr>\n",
       "<tr>\n",
       "  <th>Date:</th>             <td>Sat, 11 Jul 2020</td> <th>  Prob (F-statistic):</th>          <td>4.38e-125</td>\n",
       "</tr>\n",
       "<tr>\n",
       "  <th>Time:</th>                 <td>09:47:09</td>     <th>  Log-Likelihood:    </th>          <td> -808.56</td> \n",
       "</tr>\n",
       "<tr>\n",
       "  <th>No. Observations:</th>      <td>   128</td>      <th>  AIC:               </th>          <td>   1619.</td> \n",
       "</tr>\n",
       "<tr>\n",
       "  <th>Df Residuals:</th>          <td>   127</td>      <th>  BIC:               </th>          <td>   1622.</td> \n",
       "</tr>\n",
       "<tr>\n",
       "  <th>Df Model:</th>              <td>     1</td>      <th>                     </th>              <td> </td>    \n",
       "</tr>\n",
       "<tr>\n",
       "  <th>Covariance Type:</th>      <td>nonrobust</td>    <th>                     </th>              <td> </td>    \n",
       "</tr>\n",
       "</table>\n",
       "<table class=\"simpletable\">\n",
       "<tr>\n",
       "      <td></td>         <th>coef</th>     <th>std err</th>      <th>t</th>      <th>P>|t|</th>  <th>[0.025</th>    <th>0.975]</th>  \n",
       "</tr>\n",
       "<tr>\n",
       "  <th>Confirmed</th> <td>    0.0173</td> <td>    0.000</td> <td>  104.606</td> <td> 0.000</td> <td>    0.017</td> <td>    0.018</td>\n",
       "</tr>\n",
       "</table>\n",
       "<table class=\"simpletable\">\n",
       "<tr>\n",
       "  <th>Omnibus:</th>       <td>17.287</td> <th>  Durbin-Watson:     </th> <td>   0.032</td>\n",
       "</tr>\n",
       "<tr>\n",
       "  <th>Prob(Omnibus):</th> <td> 0.000</td> <th>  Jarque-Bera (JB):  </th> <td>  45.012</td>\n",
       "</tr>\n",
       "<tr>\n",
       "  <th>Skew:</th>          <td>-0.439</td> <th>  Prob(JB):          </th> <td>1.68e-10</td>\n",
       "</tr>\n",
       "<tr>\n",
       "  <th>Kurtosis:</th>      <td> 5.769</td> <th>  Cond. No.          </th> <td>    1.00</td>\n",
       "</tr>\n",
       "</table><br/><br/>Warnings:<br/>[1] Standard Errors assume that the covariance matrix of the errors is correctly specified."
      ],
      "text/plain": [
       "<class 'statsmodels.iolib.summary.Summary'>\n",
       "\"\"\"\n",
       "                                 OLS Regression Results                                \n",
       "=======================================================================================\n",
       "Dep. Variable:                 Deaths   R-squared (uncentered):                   0.989\n",
       "Model:                            OLS   Adj. R-squared (uncentered):              0.988\n",
       "Method:                 Least Squares   F-statistic:                          1.094e+04\n",
       "Date:                Sat, 11 Jul 2020   Prob (F-statistic):                   4.38e-125\n",
       "Time:                        09:47:09   Log-Likelihood:                         -808.56\n",
       "No. Observations:                 128   AIC:                                      1619.\n",
       "Df Residuals:                     127   BIC:                                      1622.\n",
       "Df Model:                           1                                                  \n",
       "Covariance Type:            nonrobust                                                  \n",
       "==============================================================================\n",
       "                 coef    std err          t      P>|t|      [0.025      0.975]\n",
       "------------------------------------------------------------------------------\n",
       "Confirmed      0.0173      0.000    104.606      0.000       0.017       0.018\n",
       "==============================================================================\n",
       "Omnibus:                       17.287   Durbin-Watson:                   0.032\n",
       "Prob(Omnibus):                  0.000   Jarque-Bera (JB):               45.012\n",
       "Skew:                          -0.439   Prob(JB):                     1.68e-10\n",
       "Kurtosis:                       5.769   Cond. No.                         1.00\n",
       "==============================================================================\n",
       "\n",
       "Warnings:\n",
       "[1] Standard Errors assume that the covariance matrix of the errors is correctly specified.\n",
       "\"\"\""
      ]
     },
     "execution_count": 13,
     "metadata": {},
     "output_type": "execute_result"
    }
   ],
   "source": [
    "m = sm.OLS(SAdf['Deaths'], SAdf['Confirmed']).fit()\n",
    "m.summary()"
   ]
  },
  {
   "cell_type": "code",
   "execution_count": 14,
   "metadata": {},
   "outputs": [
    {
     "name": "stdout",
     "output_type": "stream",
     "text": [
      "Using this very simple method we see a death rate of 1.73%\n"
     ]
    }
   ],
   "source": [
    "dr = m.params[0] * 100\n",
    "print('Using this very simple method we see a death rate of {}%'.format(np.round(dr, 2)))"
   ]
  },
  {
   "cell_type": "markdown",
   "metadata": {},
   "source": [
    "---\n",
    "### Model 2\n",
    "#### Second most naive"
   ]
  },
  {
   "cell_type": "markdown",
   "metadata": {},
   "source": [
    "* No account for asymptomatic people\n",
    "* No account for delays in reporting deaths or confirmed cases"
   ]
  },
  {
   "cell_type": "markdown",
   "metadata": {},
   "source": [
    "One of the difficulties in calculating the COVID-19 death rate is that it is hard to know what is the time between a positive test and death.  The test could have been done pre- or post-symptomatic"
   ]
  },
  {
   "cell_type": "markdown",
   "metadata": {},
   "source": [
    "From: https://www.thelancet.com/journals/laninf/article/PIIS1473-3099(20)30243-7/fulltext"
   ]
  },
  {
   "cell_type": "markdown",
   "metadata": {},
   "source": [
    "#### Findings\n",
    "\n",
    "Using data on 24 deaths that occurred in mainland China and 165 recoveries outside of China, we estimated the mean duration from onset of symptoms to death to be 17·8 days (95% credible interval [CrI] 16·9–19·2) and to hospital discharge to be 24·7 days (22·9–28·1). In all laboratory confirmed and clinically diagnosed cases from mainland China (n=70 117), we estimated a crude case fatality ratio (adjusted for censoring) of 3·67% (95% CrI 3·56–3·80). However, after further adjusting for demography and under-ascertainment, we obtained a best estimate of the case fatality ratio in China of 1·38% (1·23–1·53), with substantially higher ratios in older age groups (0·32% [0·27–0·38] in those aged <60 years vs 6·4% [5·7–7·2] in those aged ≥60 years), up to 13·4% (11·2–15·9) in those aged 80 years or older. Estimates of case fatality ratio from international cases stratified by age were consistent with those from China (parametric estimate 1·4% [0·4–3·5] in those aged <60 years [n=360] and 4·5% [1·8–11·1] in those aged ≥60 years [n=151]). Our estimated overall infection fatality ratio for China was 0·66% (0·39–1·33), with an increasing profile with age. Similarly, estimates of the proportion of infected individuals likely to be hospitalised increased with age up to a maximum of 18·4% (11·0–37·6) in those aged 80 years or older."
   ]
  },
  {
   "cell_type": "code",
   "execution_count": 15,
   "metadata": {},
   "outputs": [
    {
     "name": "stdout",
     "output_type": "stream",
     "text": [
      "Using 18 days in the time adjustment\n"
     ]
    }
   ],
   "source": [
    "# a mode may be a better adjustment\n",
    "days = 18\n",
    "\n",
    "print(f'Using {days} days in the time adjustment')"
   ]
  },
  {
   "cell_type": "code",
   "execution_count": 16,
   "metadata": {},
   "outputs": [],
   "source": [
    "c = SAdf[['Date','Confirmed']].iloc[0:-days, ]\n",
    "c.columns = ['testDate', 'Confirmed']\n",
    "c.reset_index(inplace=True, drop = True)\n",
    "\n",
    "d = SAdf[['Date','Deaths']].iloc[days:,]\n",
    "d.columns = ['deathDate', 'Deaths']\n",
    "d.reset_index(inplace=True, drop = True)"
   ]
  },
  {
   "cell_type": "code",
   "execution_count": 17,
   "metadata": {},
   "outputs": [],
   "source": [
    "adjSA = pd.concat([c,d], axis=1)\n",
    "#adjSA.tail()\n"
   ]
  },
  {
   "cell_type": "code",
   "execution_count": 18,
   "metadata": {},
   "outputs": [
    {
     "data": {
      "image/png": "[encoded data removed]",
      "text/plain": [
       "<Figure size 720x432 with 1 Axes>"
      ]
     },
     "metadata": {
      "needs_background": "light"
     },
     "output_type": "display_data"
    }
   ],
   "source": [
    "plt.figure(figsize=(10,6))\n",
    "sns.regplot(x='Confirmed', y='Deaths', data=adjSA, )\n",
    "plt.title('Model 2');"
   ]
  },
  {
   "cell_type": "code",
   "execution_count": 19,
   "metadata": {},
   "outputs": [
    {
     "data": {
      "text/html": [
       "<table class=\"simpletable\">\n",
       "<caption>OLS Regression Results</caption>\n",
       "<tr>\n",
       "  <th>Dep. Variable:</th>         <td>Deaths</td>      <th>  R-squared (uncentered):</th>      <td>   0.984</td>\n",
       "</tr>\n",
       "<tr>\n",
       "  <th>Model:</th>                   <td>OLS</td>       <th>  Adj. R-squared (uncentered):</th> <td>   0.983</td>\n",
       "</tr>\n",
       "<tr>\n",
       "  <th>Method:</th>             <td>Least Squares</td>  <th>  F-statistic:       </th>          <td>   6529.</td>\n",
       "</tr>\n",
       "<tr>\n",
       "  <th>Date:</th>             <td>Sat, 11 Jul 2020</td> <th>  Prob (F-statistic):</th>          <td>4.20e-99</td>\n",
       "</tr>\n",
       "<tr>\n",
       "  <th>Time:</th>                 <td>09:47:09</td>     <th>  Log-Likelihood:    </th>          <td> -722.91</td>\n",
       "</tr>\n",
       "<tr>\n",
       "  <th>No. Observations:</th>      <td>   110</td>      <th>  AIC:               </th>          <td>   1448.</td>\n",
       "</tr>\n",
       "<tr>\n",
       "  <th>Df Residuals:</th>          <td>   109</td>      <th>  BIC:               </th>          <td>   1451.</td>\n",
       "</tr>\n",
       "<tr>\n",
       "  <th>Df Model:</th>              <td>     1</td>      <th>                     </th>              <td> </td>   \n",
       "</tr>\n",
       "<tr>\n",
       "  <th>Covariance Type:</th>      <td>nonrobust</td>    <th>                     </th>              <td> </td>   \n",
       "</tr>\n",
       "</table>\n",
       "<table class=\"simpletable\">\n",
       "<tr>\n",
       "      <td></td>         <th>coef</th>     <th>std err</th>      <th>t</th>      <th>P>|t|</th>  <th>[0.025</th>    <th>0.975]</th>  \n",
       "</tr>\n",
       "<tr>\n",
       "  <th>Confirmed</th> <td>    0.0427</td> <td>    0.001</td> <td>   80.805</td> <td> 0.000</td> <td>    0.042</td> <td>    0.044</td>\n",
       "</tr>\n",
       "</table>\n",
       "<table class=\"simpletable\">\n",
       "<tr>\n",
       "  <th>Omnibus:</th>       <td> 8.822</td> <th>  Durbin-Watson:     </th> <td>   0.022</td>\n",
       "</tr>\n",
       "<tr>\n",
       "  <th>Prob(Omnibus):</th> <td> 0.012</td> <th>  Jarque-Bera (JB):  </th> <td>  12.617</td>\n",
       "</tr>\n",
       "<tr>\n",
       "  <th>Skew:</th>          <td>-0.372</td> <th>  Prob(JB):          </th> <td> 0.00182</td>\n",
       "</tr>\n",
       "<tr>\n",
       "  <th>Kurtosis:</th>      <td> 4.483</td> <th>  Cond. No.          </th> <td>    1.00</td>\n",
       "</tr>\n",
       "</table><br/><br/>Warnings:<br/>[1] Standard Errors assume that the covariance matrix of the errors is correctly specified."
      ],
      "text/plain": [
       "<class 'statsmodels.iolib.summary.Summary'>\n",
       "\"\"\"\n",
       "                                 OLS Regression Results                                \n",
       "=======================================================================================\n",
       "Dep. Variable:                 Deaths   R-squared (uncentered):                   0.984\n",
       "Model:                            OLS   Adj. R-squared (uncentered):              0.983\n",
       "Method:                 Least Squares   F-statistic:                              6529.\n",
       "Date:                Sat, 11 Jul 2020   Prob (F-statistic):                    4.20e-99\n",
       "Time:                        09:47:09   Log-Likelihood:                         -722.91\n",
       "No. Observations:                 110   AIC:                                      1448.\n",
       "Df Residuals:                     109   BIC:                                      1451.\n",
       "Df Model:                           1                                                  \n",
       "Covariance Type:            nonrobust                                                  \n",
       "==============================================================================\n",
       "                 coef    std err          t      P>|t|      [0.025      0.975]\n",
       "------------------------------------------------------------------------------\n",
       "Confirmed      0.0427      0.001     80.805      0.000       0.042       0.044\n",
       "==============================================================================\n",
       "Omnibus:                        8.822   Durbin-Watson:                   0.022\n",
       "Prob(Omnibus):                  0.012   Jarque-Bera (JB):               12.617\n",
       "Skew:                          -0.372   Prob(JB):                      0.00182\n",
       "Kurtosis:                       4.483   Cond. No.                         1.00\n",
       "==============================================================================\n",
       "\n",
       "Warnings:\n",
       "[1] Standard Errors assume that the covariance matrix of the errors is correctly specified.\n",
       "\"\"\""
      ]
     },
     "execution_count": 19,
     "metadata": {},
     "output_type": "execute_result"
    }
   ],
   "source": [
    "m = sm.OLS(adjSA['Deaths'], adjSA['Confirmed']).fit()\n",
    "m.summary()"
   ]
  },
  {
   "cell_type": "code",
   "execution_count": 20,
   "metadata": {},
   "outputs": [
    {
     "name": "stdout",
     "output_type": "stream",
     "text": [
      "Adjusting for time we find a death rate of 4.27%\n"
     ]
    }
   ],
   "source": [
    "dr = m.params[0] * 100\n",
    "print('Adjusting for time we find a death rate of {}%'.format(np.round(dr, 2)))"
   ]
  },
  {
   "cell_type": "markdown",
   "metadata": {},
   "source": [
    "---\n",
    "\n",
    "### Model 3\n",
    "#### Third most naive"
   ]
  },
  {
   "cell_type": "markdown",
   "metadata": {},
   "source": [
    "* No account for delays in reporting deaths or confirmed cases\n",
    "* Couch epidemiology"
   ]
  },
  {
   "cell_type": "markdown",
   "metadata": {},
   "source": [
    "Use the time adjusted dataframe and adjust for asymptomatic"
   ]
  },
  {
   "cell_type": "code",
   "execution_count": 21,
   "metadata": {},
   "outputs": [
    {
     "name": "stdout",
     "output_type": "stream",
     "text": [
      "Use an asymptomatic rate of 40.0%\n"
     ]
    }
   ],
   "source": [
    "asym = 0.4\n",
    "\n",
    "sym = 1 - asym\n",
    "\n",
    "print(f'Use an asymptomatic rate of {asym * 100}%')"
   ]
  },
  {
   "cell_type": "markdown",
   "metadata": {},
   "source": [
    "Adjusting for asymptomatic infected people is another difficulty.  "
   ]
  },
  {
   "cell_type": "code",
   "execution_count": 22,
   "metadata": {},
   "outputs": [
    {
     "data": {
      "text/html": [
       "<div>\n",
       "<style scoped>\n",
       "    .dataframe tbody tr th:only-of-type {\n",
       "        vertical-align: middle;\n",
       "    }\n",
       "\n",
       "    .dataframe tbody tr th {\n",
       "        vertical-align: top;\n",
       "    }\n",
       "\n",
       "    .dataframe thead th {\n",
       "        text-align: right;\n",
       "    }\n",
       "</style>\n",
       "<table border=\"1\" class=\"dataframe\">\n",
       "  <thead>\n",
       "    <tr style=\"text-align: right;\">\n",
       "      <th></th>\n",
       "      <th>testDate</th>\n",
       "      <th>Confirmed</th>\n",
       "      <th>deathDate</th>\n",
       "      <th>Deaths</th>\n",
       "      <th>Asymptomatic</th>\n",
       "      <th>EstTotalInfected</th>\n",
       "    </tr>\n",
       "  </thead>\n",
       "  <tbody>\n",
       "    <tr>\n",
       "      <td>105</td>\n",
       "      <td>2020-06-18</td>\n",
       "      <td>83890</td>\n",
       "      <td>2020-07-06</td>\n",
       "      <td>3310</td>\n",
       "      <td>55926.0</td>\n",
       "      <td>139816.0</td>\n",
       "    </tr>\n",
       "    <tr>\n",
       "      <td>106</td>\n",
       "      <td>2020-06-19</td>\n",
       "      <td>87715</td>\n",
       "      <td>2020-07-07</td>\n",
       "      <td>3502</td>\n",
       "      <td>58476.0</td>\n",
       "      <td>146191.0</td>\n",
       "    </tr>\n",
       "    <tr>\n",
       "      <td>107</td>\n",
       "      <td>2020-06-20</td>\n",
       "      <td>92681</td>\n",
       "      <td>2020-07-08</td>\n",
       "      <td>3602</td>\n",
       "      <td>61787.0</td>\n",
       "      <td>154468.0</td>\n",
       "    </tr>\n",
       "    <tr>\n",
       "      <td>108</td>\n",
       "      <td>2020-06-21</td>\n",
       "      <td>97302</td>\n",
       "      <td>2020-07-09</td>\n",
       "      <td>3720</td>\n",
       "      <td>64868.0</td>\n",
       "      <td>162170.0</td>\n",
       "    </tr>\n",
       "    <tr>\n",
       "      <td>109</td>\n",
       "      <td>2020-06-22</td>\n",
       "      <td>101590</td>\n",
       "      <td>2020-07-10</td>\n",
       "      <td>3860</td>\n",
       "      <td>67726.0</td>\n",
       "      <td>169316.0</td>\n",
       "    </tr>\n",
       "  </tbody>\n",
       "</table>\n",
       "</div>"
      ],
      "text/plain": [
       "      testDate  Confirmed  deathDate  Deaths  Asymptomatic  EstTotalInfected\n",
       "105 2020-06-18      83890 2020-07-06    3310       55926.0          139816.0\n",
       "106 2020-06-19      87715 2020-07-07    3502       58476.0          146191.0\n",
       "107 2020-06-20      92681 2020-07-08    3602       61787.0          154468.0\n",
       "108 2020-06-21      97302 2020-07-09    3720       64868.0          162170.0\n",
       "109 2020-06-22     101590 2020-07-10    3860       67726.0          169316.0"
      ]
     },
     "execution_count": 22,
     "metadata": {},
     "output_type": "execute_result"
    }
   ],
   "source": [
    "adjSA['Asymptomatic'] = np.floor(adjSA['Confirmed'] * asym / sym)\n",
    "adjSA['EstTotalInfected'] = adjSA['Confirmed'] + adjSA['Asymptomatic']\n",
    "adjSA.tail()"
   ]
  },
  {
   "cell_type": "code",
   "execution_count": null,
   "metadata": {},
   "outputs": [],
   "source": [
    "adjSA=adjSA[adjSA['EstTotalInfected'] > 0]\n",
    "plt.figure(figsize=(10,6))\n",
    "sns.regplot(x='EstTotalInfected', y='Deaths', data=adjSA);"
   ]
  },
  {
   "cell_type": "code",
   "execution_count": null,
   "metadata": {},
   "outputs": [],
   "source": [
    "m = sm.OLS(adjSA['Deaths'], adjSA['EstTotalInfected']).fit()\n",
    "m.summary()"
   ]
  },
  {
   "cell_type": "code",
   "execution_count": null,
   "metadata": {},
   "outputs": [],
   "source": [
    "dr = m.params[0] * 100\n",
    "print('The death rate adjusting for time and asymtomatic cases is {}%'.format(np.round(dr, 2)))"
   ]
  },
  {
   "cell_type": "markdown",
   "metadata": {},
   "source": [
    "---\n",
    "Many things not considered"
   ]
  },
  {
   "cell_type": "markdown",
   "metadata": {},
   "source": [
    "### Daily new"
   ]
  },
  {
   "cell_type": "code",
   "execution_count": null,
   "metadata": {},
   "outputs": [],
   "source": [
    "SAdf['NewConfirmed'] = SAdf['Confirmed'].diff()\n",
    "SAdf['NewDeaths'] = SAdf['Deaths'].diff()"
   ]
  },
  {
   "cell_type": "code",
   "execution_count": null,
   "metadata": {},
   "outputs": [],
   "source": [
    "plt.figure(figsize=(10,6))\n",
    "sns.lineplot(x='DaysFromFirst', y='NewDeaths', data=SAdf)\n",
    "sns.scatterplot(x='DaysFromFirst', y='NewDeaths', data=SAdf)\n",
    "sns.regplot(x='DaysFromFirst', y='NewDeaths', data=SAdf, lowess=True, scatter= False)\n",
    "plt.title('Number of new deaths in SA');"
   ]
  },
  {
   "cell_type": "code",
   "execution_count": null,
   "metadata": {},
   "outputs": [],
   "source": [
    "plt.figure(figsize=(10,6))\n",
    "sns.lineplot(x='DaysFromFirst', y='NewConfirmed', data=SAdf)\n",
    "sns.scatterplot(x='DaysFromFirst', y='NewConfirmed', data=SAdf)\n",
    "sns.regplot(x='DaysFromFirst', y='NewConfirmed', data=SAdf, lowess=True, scatter= False)\n",
    "plt.vlines(x=22, ymin=0, ymax=SAdf['NewConfirmed'].max(), linestyles=('dotted'), colors='grey')\n",
    "plt.text(22,SAdf['NewConfirmed'].max(), 'Lockdown')\n",
    "plt.title('Number of new confirmed SARS-COV2 cases in SA');"
   ]
  },
  {
   "cell_type": "code",
   "execution_count": null,
   "metadata": {},
   "outputs": [],
   "source": [
    "plt.figure(figsize=(10,6))\n",
    "sns.lineplot(x='DaysFromFirst', y='NewConfirmed', data=SAdf)\n",
    "sns.scatterplot(x='DaysFromFirst', y='NewConfirmed', data=SAdf)\n",
    "sns.regplot(x='DaysFromFirst', y='NewConfirmed', data=SAdf, lowess=True, scatter= False)\n",
    "plt.vlines(x=22, ymin=0, ymax=SAdf['NewConfirmed'].max(), linestyles=('dotted'), colors='grey')\n",
    "plt.text(22,SAdf['NewConfirmed'].max(), 'Lockdown')\n",
    "plt.yscale('log')\n",
    "plt.title('Number of new confirmed SARS-COV2 cases in SA');"
   ]
  },
  {
   "cell_type": "markdown",
   "metadata": {},
   "source": [
    "---\n",
    "\n",
    "---"
   ]
  }
 ],
 "metadata": {
  "kernelspec": {
   "display_name": "Python 3",
   "language": "python",
   "name": "python3"
  },
  "language_info": {
   "codemirror_mode": {
    "name": "ipython",
    "version": 3
   },
   "file_extension": ".py",
   "mimetype": "text/x-python",
   "name": "python",
   "nbconvert_exporter": "python",
   "pygments_lexer": "ipython3",
   "version": "3.7.6"
  }
 },
 "nbformat": 4,
 "nbformat_minor": 4
}
