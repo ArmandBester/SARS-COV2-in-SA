{
 "cells": [
  {
   "cell_type": "markdown",
   "metadata": {},
   "source": [
    "---\n",
    "# COVID19 death rates South Africa\n",
    "---"
   ]
  },
  {
   "cell_type": "markdown",
   "metadata": {},
   "source": [
    "#### Get data from:\n",
    "\n",
    "COVID-19 Data Repository by the Center for Systems Science and Engineering (CSSE) at Johns Hopkins University\n",
    "\n",
    "\n",
    "https://github.com/CSSEGISandData/COVID-19.git"
   ]
  },
  {
   "cell_type": "code",
   "execution_count": 12,
   "metadata": {},
   "outputs": [
    {
     "name": "stdout",
     "output_type": "stream",
     "text": [
      "On branch master\n",
      "Your branch is up to date with 'origin/master'.\n",
      "\n",
      "nothing to commit, working tree clean\n",
      "Updating 7b6f7244..d1a7ad24\n",
      "Fast-forward\n",
      " README.md                                          |    4 +-\n",
      " csse_covid_19_data/README.md                       |    2 +\n",
      " .../csse_covid_19_daily_reports/07-07-2020.csv     | 3804 ++++++++++++\n",
      " .../csse_covid_19_daily_reports/07-08-2020.csv     | 3807 ++++++++++++\n",
      " .../csse_covid_19_daily_reports_us/07-07-2020.csv  |   59 +\n",
      " .../csse_covid_19_daily_reports_us/07-08-2020.csv  |   59 +\n",
      " .../csse_covid_19_time_series/Errata.csv           |    4 +\n",
      " .../time_series_covid19_confirmed_US.csv           | 6524 ++++++++++----------\n",
      " .../time_series_covid19_confirmed_global.csv       |  534 +-\n",
      " .../time_series_covid19_deaths_US.csv              | 6524 ++++++++++----------\n",
      " .../time_series_covid19_deaths_global.csv          |  534 +-\n",
      " .../time_series_covid19_recovered_global.csv       |  508 +-\n",
      " 12 files changed, 15050 insertions(+), 7313 deletions(-)\n",
      " create mode 100644 csse_covid_19_data/csse_covid_19_daily_reports/07-07-2020.csv\n",
      " create mode 100644 csse_covid_19_data/csse_covid_19_daily_reports/07-08-2020.csv\n",
      " create mode 100644 csse_covid_19_data/csse_covid_19_daily_reports_us/07-07-2020.csv\n",
      " create mode 100644 csse_covid_19_data/csse_covid_19_daily_reports_us/07-08-2020.csv\n",
      "On branch master\n",
      "Your branch is up to date with 'origin/master'.\n",
      "\n",
      "nothing to commit, working tree clean\n"
     ]
    },
    {
     "name": "stderr",
     "output_type": "stream",
     "text": [
      "From https://github.com/CSSEGISandData/COVID-19\n",
      "   7b6f7244..d1a7ad24  master     -> origin/master\n",
      "   a793b7c7..aa825955  web-data   -> origin/web-data\n"
     ]
    }
   ],
   "source": [
    "%%bash\n",
    "#git clone https://github.com/CSSEGISandData/COVID-19.git\n",
    "cd COVID-19/\n",
    "git status COVID-19/\n",
    "git pull\n",
    "git status COVID-19/"
   ]
  },
  {
   "cell_type": "code",
   "execution_count": 2,
   "metadata": {},
   "outputs": [],
   "source": [
    "%%bash\n",
    "#rm -rf time_series_covid19_*\n",
    "#wget https://raw.githubusercontent.com/CSSEGISandData/COVID-19/master/csse_covid_19_data/csse_covid_19_time_series/time_series_covid19_deaths_global.csv\n",
    "#wget https://raw.githubusercontent.com/CSSEGISandData/COVID-19/master/csse_covid_19_data/csse_covid_19_time_series/time_series_covid19_confirmed_global.csv"
   ]
  },
  {
   "cell_type": "code",
   "execution_count": 13,
   "metadata": {},
   "outputs": [],
   "source": [
    "import pandas as pd\n",
    "import numpy as np\n",
    "import matplotlib.pyplot as plt\n",
    "import seaborn as sns\n",
    "from pandas.plotting import register_matplotlib_converters\n",
    "register_matplotlib_converters()\n",
    "import statsmodels.api as sm\n",
    "from IPython.display import HTML, display\n",
    "import tabulate\n",
    "import time"
   ]
  },
  {
   "cell_type": "markdown",
   "metadata": {},
   "source": [
    "#### Date and time"
   ]
  },
  {
   "cell_type": "code",
   "execution_count": 14,
   "metadata": {},
   "outputs": [
    {
     "name": "stdout",
     "output_type": "stream",
     "text": [
      "It is now Fri Jul 10 06:50:13 2020 GMT+2\n"
     ]
    }
   ],
   "source": [
    "print(f'It is now {time.ctime()} GMT+2')"
   ]
  },
  {
   "cell_type": "markdown",
   "metadata": {},
   "source": [
    "---\n",
    "\n",
    "### Confirmed cases and deaths\n",
    "\n",
    "---"
   ]
  },
  {
   "cell_type": "code",
   "execution_count": 19,
   "metadata": {},
   "outputs": [],
   "source": [
    "# confirmed\n",
    "country = 'South Africa'\n",
    "confirmedGlobal = pd.read_csv(\"COVID-19/csse_covid_19_data/csse_covid_19_time_series/time_series_covid19_confirmed_global.csv\")\n",
    "confirmedSA = confirmedGlobal[confirmedGlobal['Country/Region'] == country]\n",
    "confirmedSA = confirmedSA.drop(['Province/State', 'Country/Region', 'Lat', 'Long'], axis=1)\n",
    "confirmedSA = pd.DataFrame(confirmedSA.sum(axis=0))\n",
    "confirmedSA = confirmedSA.reset_index()\n",
    "confirmedSA.columns = ['Date', 'Confirmed']\n",
    "confirmedSA['Date'] = pd.to_datetime(confirmedSA['Date'], format='%m/%d/%y')\n",
    "\n",
    "# Deaths\n",
    "deathsGlobal = pd.read_csv(\"COVID-19/csse_covid_19_data/csse_covid_19_time_series/time_series_covid19_deaths_global.csv\")\n",
    "deathsSA = deathsGlobal[deathsGlobal['Country/Region'] == country]\n",
    "deathsSA = deathsSA.drop(['Province/State', 'Country/Region', 'Lat', 'Long'], axis=1)\n",
    "deathsSA = pd.DataFrame(deathsSA.sum(axis=0))\n",
    "deathsSA = deathsSA.reset_index()\n",
    "deathsSA.columns = ['Date', 'Deaths']\n",
    "deathsSA['Date'] = pd.to_datetime(deathsSA['Date'], format='%m/%d/%y')\n"
   ]
  },
  {
   "cell_type": "markdown",
   "metadata": {},
   "source": [
    "#### Table of last 5 rows"
   ]
  },
  {
   "cell_type": "code",
   "execution_count": 20,
   "metadata": {},
   "outputs": [
    {
     "data": {
      "text/html": [
       "<div>\n",
       "<style scoped>\n",
       "    .dataframe tbody tr th:only-of-type {\n",
       "        vertical-align: middle;\n",
       "    }\n",
       "\n",
       "    .dataframe tbody tr th {\n",
       "        vertical-align: top;\n",
       "    }\n",
       "\n",
       "    .dataframe thead th {\n",
       "        text-align: right;\n",
       "    }\n",
       "</style>\n",
       "<table border=\"1\" class=\"dataframe\">\n",
       "  <thead>\n",
       "    <tr style=\"text-align: right;\">\n",
       "      <th></th>\n",
       "      <th>Date</th>\n",
       "      <th>Confirmed</th>\n",
       "      <th>Deaths</th>\n",
       "      <th>DaysFromFirst</th>\n",
       "    </tr>\n",
       "  </thead>\n",
       "  <tbody>\n",
       "    <tr>\n",
       "      <td>164</td>\n",
       "      <td>2020-07-04</td>\n",
       "      <td>187977</td>\n",
       "      <td>3026</td>\n",
       "      <td>121</td>\n",
       "    </tr>\n",
       "    <tr>\n",
       "      <td>165</td>\n",
       "      <td>2020-07-05</td>\n",
       "      <td>196750</td>\n",
       "      <td>3199</td>\n",
       "      <td>122</td>\n",
       "    </tr>\n",
       "    <tr>\n",
       "      <td>166</td>\n",
       "      <td>2020-07-06</td>\n",
       "      <td>205721</td>\n",
       "      <td>3310</td>\n",
       "      <td>123</td>\n",
       "    </tr>\n",
       "    <tr>\n",
       "      <td>167</td>\n",
       "      <td>2020-07-07</td>\n",
       "      <td>215855</td>\n",
       "      <td>3502</td>\n",
       "      <td>124</td>\n",
       "    </tr>\n",
       "    <tr>\n",
       "      <td>168</td>\n",
       "      <td>2020-07-08</td>\n",
       "      <td>224665</td>\n",
       "      <td>3602</td>\n",
       "      <td>125</td>\n",
       "    </tr>\n",
       "  </tbody>\n",
       "</table>\n",
       "</div>"
      ],
      "text/plain": [
       "          Date  Confirmed  Deaths  DaysFromFirst\n",
       "164 2020-07-04     187977    3026            121\n",
       "165 2020-07-05     196750    3199            122\n",
       "166 2020-07-06     205721    3310            123\n",
       "167 2020-07-07     215855    3502            124\n",
       "168 2020-07-08     224665    3602            125"
      ]
     },
     "execution_count": 20,
     "metadata": {},
     "output_type": "execute_result"
    }
   ],
   "source": [
    "# merge\n",
    "\n",
    "SAdf = pd.merge(confirmedSA, deathsSA)\n",
    "\n",
    "#Remove the first zero values from the confirmed column\n",
    "SAdf = SAdf[SAdf['Confirmed'] > 0]\n",
    "\n",
    "SAdf['DaysFromFirst'] = (SAdf['Date'] - SAdf.iloc[0,0]).dt.days\n",
    "\n",
    "SAdf.tail()\n"
   ]
  },
  {
   "cell_type": "code",
   "execution_count": 21,
   "metadata": {},
   "outputs": [
    {
     "data": {
      "image/png": "[encoded data removed]",
      "text/plain": [
       "<Figure size 720x432 with 1 Axes>"
      ]
     },
     "metadata": {
      "needs_background": "light"
     },
     "output_type": "display_data"
    }
   ],
   "source": [
    "plt.figure(figsize=(10,6))\n",
    "sns.lineplot(x='Date', y='Confirmed', data=SAdf)\n",
    "sns.lineplot(x='Date', y='Deaths', data=SAdf)\n",
    "plt.legend(['Confirmed','Deaths'])\n",
    "plt.ylabel(\"COVID19 cases and deaths\")\n",
    "plt.vlines(x='2020-03-27', ymin=0, ymax=SAdf['Confirmed'].max(), ls=\"dotted\")\n",
    "plt.text(x='2020-03-28', y=SAdf['Confirmed'].max(), s='Lockdown: 27 Mar 20')\n",
    "plt.text(x=SAdf.iloc[-7,0], y=SAdf.iloc[-1,1], s=SAdf.iloc[-1,1])\n",
    "plt.text(x=SAdf.iloc[-1,0], y=SAdf.iloc[-1,2], s=SAdf.iloc[-1,2])\n",
    "plt.title('Number of cases and deaths, linear scale')\n",
    "plt.xticks(rotation=90);\n",
    "\n"
   ]
  },
  {
   "cell_type": "code",
   "execution_count": null,
   "metadata": {},
   "outputs": [],
   "source": [
    "stages = {'S-5': '2020-03-27',\n",
    "         'S-4': '2020-05-01',\n",
    "         'S-3': '2020-06-01'}\n",
    "\n",
    "plt.figure(figsize=(10,6))\n",
    "sns.lineplot(x='Date', y='Confirmed', data=SAdf)\n",
    "sns.lineplot(x='Date', y='Deaths', data=SAdf)\n",
    "plt.legend(['Confirmed','Deaths'])\n",
    "plt.yscale('log')\n",
    "\n",
    "for stage in stages.keys():\n",
    "    plt.vlines(x=stages[stage], ymin=0, ymax=SAdf.iloc[-1,1], ls=\"dotted\")\n",
    "    plt.text(x=stages[stage], y=SAdf.iloc[-1,1], s='{}: {}'.format(stage, stages[stage]), fontsize=8)\n",
    "\n",
    "plt.xlim(SAdf.iloc[0,0], '2020-06-10')\n",
    "plt.ylabel(\"COVID19 cases and deaths\")\n",
    "plt.title('Number of cases and deaths, logarithmic scale')\n",
    "plt.xticks(rotation=90);"
   ]
  },
  {
   "cell_type": "code",
   "execution_count": 9,
   "metadata": {},
   "outputs": [],
   "source": [
    "SAdf['Lockdown'] = SAdf['Date'] > '2020-03-27'\n",
    "SAdf['LogConfirmed'] = np.log10(SAdf['Confirmed'])\n"
   ]
  },
  {
   "cell_type": "code",
   "execution_count": 10,
   "metadata": {},
   "outputs": [],
   "source": [
    "mOpen = sm.OLS(SAdf[SAdf['Lockdown'] == False]['LogConfirmed'], \n",
    "               SAdf[SAdf['Lockdown'] == False]['DaysFromFirst']).fit()\n",
    "mClose = sm.OLS(SAdf[SAdf['Lockdown'] == True]['LogConfirmed'], \n",
    "               SAdf[SAdf['Lockdown'] == True]['DaysFromFirst']).fit()"
   ]
  },
  {
   "cell_type": "code",
   "execution_count": 11,
   "metadata": {},
   "outputs": [
    {
     "ename": "IndexError",
     "evalue": "invalid index to scalar variable.",
     "output_type": "error",
     "traceback": [
      "\u001b[0;31m---------------------------------------------------------------------------\u001b[0m",
      "\u001b[0;31mIndexError\u001b[0m                                Traceback (most recent call last)",
      "\u001b[0;32m<ipython-input-11-13b3ed524fbe>\u001b[0m in \u001b[0;36m<module>\u001b[0;34m\u001b[0m\n\u001b[1;32m      4\u001b[0m             color='grey', marker='')\n\u001b[1;32m      5\u001b[0m sns.regplot(x='DaysFromFirst', y='LogConfirmed', data=SAdf[SAdf['Lockdown'] == False], \n\u001b[0;32m----> 6\u001b[0;31m             color='grey', marker='')\n\u001b[0m\u001b[1;32m      7\u001b[0m \u001b[0msns\u001b[0m\u001b[0;34m.\u001b[0m\u001b[0mscatterplot\u001b[0m\u001b[0;34m(\u001b[0m\u001b[0mx\u001b[0m\u001b[0;34m=\u001b[0m\u001b[0;34m'DaysFromFirst'\u001b[0m\u001b[0;34m,\u001b[0m \u001b[0my\u001b[0m\u001b[0;34m=\u001b[0m\u001b[0;34m'LogConfirmed'\u001b[0m\u001b[0;34m,\u001b[0m \u001b[0mdata\u001b[0m\u001b[0;34m=\u001b[0m\u001b[0mSAdf\u001b[0m\u001b[0;34m,\u001b[0m \u001b[0mhue\u001b[0m\u001b[0;34m=\u001b[0m\u001b[0;34m'Lockdown'\u001b[0m\u001b[0;34m)\u001b[0m\u001b[0;34m\u001b[0m\u001b[0;34m\u001b[0m\u001b[0m\n\u001b[1;32m      8\u001b[0m \u001b[0mplt\u001b[0m\u001b[0;34m.\u001b[0m\u001b[0mtext\u001b[0m\u001b[0;34m(\u001b[0m\u001b[0;36m12\u001b[0m\u001b[0;34m,\u001b[0m \u001b[0;36m1.5\u001b[0m\u001b[0;34m,\u001b[0m \u001b[0mnp\u001b[0m\u001b[0;34m.\u001b[0m\u001b[0mround\u001b[0m\u001b[0;34m(\u001b[0m\u001b[0mmOpen\u001b[0m\u001b[0;34m.\u001b[0m\u001b[0mparams\u001b[0m\u001b[0;34m[\u001b[0m\u001b[0;36m0\u001b[0m\u001b[0;34m]\u001b[0m\u001b[0;34m,\u001b[0m \u001b[0;36m4\u001b[0m\u001b[0;34m)\u001b[0m\u001b[0;34m)\u001b[0m\u001b[0;34m\u001b[0m\u001b[0;34m\u001b[0m\u001b[0m\n",
      "\u001b[0;32m~/anaconda3/lib/python3.7/site-packages/seaborn/regression.py\u001b[0m in \u001b[0;36mregplot\u001b[0;34m(x, y, data, x_estimator, x_bins, x_ci, scatter, fit_reg, ci, n_boot, units, seed, order, logistic, lowess, robust, logx, x_partial, y_partial, truncate, dropna, x_jitter, y_jitter, label, color, marker, scatter_kws, line_kws, ax)\u001b[0m\n\u001b[1;32m    808\u001b[0m                                  \u001b[0morder\u001b[0m\u001b[0;34m,\u001b[0m \u001b[0mlogistic\u001b[0m\u001b[0;34m,\u001b[0m \u001b[0mlowess\u001b[0m\u001b[0;34m,\u001b[0m \u001b[0mrobust\u001b[0m\u001b[0;34m,\u001b[0m \u001b[0mlogx\u001b[0m\u001b[0;34m,\u001b[0m\u001b[0;34m\u001b[0m\u001b[0;34m\u001b[0m\u001b[0m\n\u001b[1;32m    809\u001b[0m                                  \u001b[0mx_partial\u001b[0m\u001b[0;34m,\u001b[0m \u001b[0my_partial\u001b[0m\u001b[0;34m,\u001b[0m \u001b[0mtruncate\u001b[0m\u001b[0;34m,\u001b[0m \u001b[0mdropna\u001b[0m\u001b[0;34m,\u001b[0m\u001b[0;34m\u001b[0m\u001b[0;34m\u001b[0m\u001b[0m\n\u001b[0;32m--> 810\u001b[0;31m                                  x_jitter, y_jitter, color, label)\n\u001b[0m\u001b[1;32m    811\u001b[0m \u001b[0;34m\u001b[0m\u001b[0m\n\u001b[1;32m    812\u001b[0m     \u001b[0;32mif\u001b[0m \u001b[0max\u001b[0m \u001b[0;32mis\u001b[0m \u001b[0;32mNone\u001b[0m\u001b[0;34m:\u001b[0m\u001b[0;34m\u001b[0m\u001b[0;34m\u001b[0m\u001b[0m\n",
      "\u001b[0;32m~/anaconda3/lib/python3.7/site-packages/seaborn/regression.py\u001b[0m in \u001b[0;36m__init__\u001b[0;34m(self, x, y, data, x_estimator, x_bins, x_ci, scatter, fit_reg, ci, n_boot, units, seed, order, logistic, lowess, robust, logx, x_partial, y_partial, truncate, dropna, x_jitter, y_jitter, color, label)\u001b[0m\n\u001b[1;32m    112\u001b[0m         \u001b[0;31m# Drop null observations\u001b[0m\u001b[0;34m\u001b[0m\u001b[0;34m\u001b[0m\u001b[0;34m\u001b[0m\u001b[0m\n\u001b[1;32m    113\u001b[0m         \u001b[0;32mif\u001b[0m \u001b[0mdropna\u001b[0m\u001b[0;34m:\u001b[0m\u001b[0;34m\u001b[0m\u001b[0;34m\u001b[0m\u001b[0m\n\u001b[0;32m--> 114\u001b[0;31m             \u001b[0mself\u001b[0m\u001b[0;34m.\u001b[0m\u001b[0mdropna\u001b[0m\u001b[0;34m(\u001b[0m\u001b[0;34m\"x\"\u001b[0m\u001b[0;34m,\u001b[0m \u001b[0;34m\"y\"\u001b[0m\u001b[0;34m,\u001b[0m \u001b[0;34m\"units\"\u001b[0m\u001b[0;34m,\u001b[0m \u001b[0;34m\"x_partial\"\u001b[0m\u001b[0;34m,\u001b[0m \u001b[0;34m\"y_partial\"\u001b[0m\u001b[0;34m)\u001b[0m\u001b[0;34m\u001b[0m\u001b[0;34m\u001b[0m\u001b[0m\n\u001b[0m\u001b[1;32m    115\u001b[0m \u001b[0;34m\u001b[0m\u001b[0m\n\u001b[1;32m    116\u001b[0m         \u001b[0;31m# Regress nuisance variables out of the data\u001b[0m\u001b[0;34m\u001b[0m\u001b[0;34m\u001b[0m\u001b[0;34m\u001b[0m\u001b[0m\n",
      "\u001b[0;32m~/anaconda3/lib/python3.7/site-packages/seaborn/regression.py\u001b[0m in \u001b[0;36mdropna\u001b[0;34m(self, *vars)\u001b[0m\n\u001b[1;32m     64\u001b[0m             \u001b[0mval\u001b[0m \u001b[0;34m=\u001b[0m \u001b[0mgetattr\u001b[0m\u001b[0;34m(\u001b[0m\u001b[0mself\u001b[0m\u001b[0;34m,\u001b[0m \u001b[0mvar\u001b[0m\u001b[0;34m)\u001b[0m\u001b[0;34m\u001b[0m\u001b[0;34m\u001b[0m\u001b[0m\n\u001b[1;32m     65\u001b[0m             \u001b[0;32mif\u001b[0m \u001b[0mval\u001b[0m \u001b[0;32mis\u001b[0m \u001b[0;32mnot\u001b[0m \u001b[0;32mNone\u001b[0m\u001b[0;34m:\u001b[0m\u001b[0;34m\u001b[0m\u001b[0;34m\u001b[0m\u001b[0m\n\u001b[0;32m---> 66\u001b[0;31m                 \u001b[0msetattr\u001b[0m\u001b[0;34m(\u001b[0m\u001b[0mself\u001b[0m\u001b[0;34m,\u001b[0m \u001b[0mvar\u001b[0m\u001b[0;34m,\u001b[0m \u001b[0mval\u001b[0m\u001b[0;34m[\u001b[0m\u001b[0mnot_na\u001b[0m\u001b[0;34m]\u001b[0m\u001b[0;34m)\u001b[0m\u001b[0;34m\u001b[0m\u001b[0;34m\u001b[0m\u001b[0m\n\u001b[0m\u001b[1;32m     67\u001b[0m \u001b[0;34m\u001b[0m\u001b[0m\n\u001b[1;32m     68\u001b[0m     \u001b[0;32mdef\u001b[0m \u001b[0mplot\u001b[0m\u001b[0;34m(\u001b[0m\u001b[0mself\u001b[0m\u001b[0;34m,\u001b[0m \u001b[0max\u001b[0m\u001b[0;34m)\u001b[0m\u001b[0;34m:\u001b[0m\u001b[0;34m\u001b[0m\u001b[0;34m\u001b[0m\u001b[0m\n",
      "\u001b[0;31mIndexError\u001b[0m: invalid index to scalar variable."
     ]
    },
    {
     "data": {
      "image/png": "[encoded data removed]",
      "text/plain": [
       "<Figure size 720x432 with 1 Axes>"
      ]
     },
     "metadata": {
      "needs_background": "light"
     },
     "output_type": "display_data"
    }
   ],
   "source": [
    "plt.figure(figsize=(10,6))\n",
    "\n",
    "sns.regplot(x='DaysFromFirst', y='LogConfirmed', data=SAdf[SAdf['Lockdown'] == True], \n",
    "            color='grey', marker='')\n",
    "sns.regplot(x='DaysFromFirst', y='LogConfirmed', data=SAdf[SAdf['Lockdown'] == False], \n",
    "            color='grey', marker='')\n",
    "sns.scatterplot(x='DaysFromFirst', y='LogConfirmed', data=SAdf, hue='Lockdown')\n",
    "plt.text(12, 1.5, np.round(mOpen.params[0], 4))\n",
    "plt.text(45, 3.8, np.round(mClose.params[0], 4))\n",
    "plt.vlines(x=22, ymin=0, ymax=4, linestyles=('dotted'), colors='grey')\n",
    "plt.text(22, 4.1, 'Lockdown')\n",
    "plt.ylabel(\"COVID19 cases, Log10\")\n",
    "plt.title('Rates of cases, pre and post lockdown')\n",
    "plt.xticks(rotation=90);\n"
   ]
  },
  {
   "cell_type": "markdown",
   "metadata": {},
   "source": [
    "---\n",
    "\n",
    "### Death Rates\n",
    "\n",
    "---"
   ]
  },
  {
   "cell_type": "markdown",
   "metadata": {},
   "source": [
    "---\n",
    "### Model 1\n",
    "#### Most naive"
   ]
  },
  {
   "cell_type": "markdown",
   "metadata": {},
   "source": [
    "**The simplest** is to plot deaths against confirmed SARS-COV2 positive people and use the slope to estimate this death rate.\n",
    "\n",
    "* No account for asymptomatic people\n",
    "* No adjustment from onset of symptoms to death\n",
    "* No account for delays in reporting deaths or confirmed cases"
   ]
  },
  {
   "cell_type": "code",
   "execution_count": null,
   "metadata": {},
   "outputs": [],
   "source": [
    "plt.figure(figsize=(10,6))\n",
    "sns.regplot(x='Confirmed', y='Deaths', data=SAdf)\n",
    "plt.title('Model 1');"
   ]
  },
  {
   "cell_type": "code",
   "execution_count": null,
   "metadata": {},
   "outputs": [],
   "source": [
    "m = sm.OLS(SAdf['Deaths'], SAdf['Confirmed']).fit()\n",
    "m.summary()"
   ]
  },
  {
   "cell_type": "code",
   "execution_count": null,
   "metadata": {},
   "outputs": [],
   "source": [
    "dr = m.params[0] * 100\n",
    "print('Using this very simple method we see a death rate of {}%'.format(np.round(dr, 2)))"
   ]
  },
  {
   "cell_type": "markdown",
   "metadata": {},
   "source": [
    "---\n",
    "### Model 2\n",
    "#### Second most naive"
   ]
  },
  {
   "cell_type": "markdown",
   "metadata": {},
   "source": [
    "* No account for asymptomatic people\n",
    "* No account for delays in reporting deaths or confirmed cases"
   ]
  },
  {
   "cell_type": "markdown",
   "metadata": {},
   "source": [
    "One of the difficulties in calculating the COVID-19 death rate is that it is hard to know what is the time between a positive test and death.  The test could have been done pre- or post-symptomatic"
   ]
  },
  {
   "cell_type": "markdown",
   "metadata": {},
   "source": [
    "From: https://www.thelancet.com/journals/laninf/article/PIIS1473-3099(20)30243-7/fulltext"
   ]
  },
  {
   "cell_type": "markdown",
   "metadata": {},
   "source": [
    "#### Findings\n",
    "\n",
    "Using data on 24 deaths that occurred in mainland China and 165 recoveries outside of China, we estimated the mean duration from onset of symptoms to death to be 17·8 days (95% credible interval [CrI] 16·9–19·2) and to hospital discharge to be 24·7 days (22·9–28·1). In all laboratory confirmed and clinically diagnosed cases from mainland China (n=70 117), we estimated a crude case fatality ratio (adjusted for censoring) of 3·67% (95% CrI 3·56–3·80). However, after further adjusting for demography and under-ascertainment, we obtained a best estimate of the case fatality ratio in China of 1·38% (1·23–1·53), with substantially higher ratios in older age groups (0·32% [0·27–0·38] in those aged <60 years vs 6·4% [5·7–7·2] in those aged ≥60 years), up to 13·4% (11·2–15·9) in those aged 80 years or older. Estimates of case fatality ratio from international cases stratified by age were consistent with those from China (parametric estimate 1·4% [0·4–3·5] in those aged <60 years [n=360] and 4·5% [1·8–11·1] in those aged ≥60 years [n=151]). Our estimated overall infection fatality ratio for China was 0·66% (0·39–1·33), with an increasing profile with age. Similarly, estimates of the proportion of infected individuals likely to be hospitalised increased with age up to a maximum of 18·4% (11·0–37·6) in those aged 80 years or older."
   ]
  },
  {
   "cell_type": "code",
   "execution_count": null,
   "metadata": {},
   "outputs": [],
   "source": [
    "# a mode may be a better adjustment\n",
    "days = 18\n",
    "\n",
    "print(f'Using {days} days in the time adjustment')"
   ]
  },
  {
   "cell_type": "code",
   "execution_count": null,
   "metadata": {},
   "outputs": [],
   "source": [
    "c = SAdf[['Date','Confirmed']].iloc[0:-days, ]\n",
    "c.columns = ['testDate', 'Confirmed']\n",
    "c.reset_index(inplace=True, drop = True)\n",
    "\n",
    "d = SAdf[['Date','Deaths']].iloc[days:,]\n",
    "d.columns = ['deathDate', 'Deaths']\n",
    "d.reset_index(inplace=True, drop = True)"
   ]
  },
  {
   "cell_type": "code",
   "execution_count": null,
   "metadata": {},
   "outputs": [],
   "source": [
    "adjSA = pd.concat([c,d], axis=1)\n",
    "#adjSA.tail()\n"
   ]
  },
  {
   "cell_type": "code",
   "execution_count": null,
   "metadata": {},
   "outputs": [],
   "source": [
    "plt.figure(figsize=(10,6))\n",
    "sns.regplot(x='Confirmed', y='Deaths', data=adjSA, )\n",
    "plt.title('Model 2');"
   ]
  },
  {
   "cell_type": "code",
   "execution_count": null,
   "metadata": {},
   "outputs": [],
   "source": [
    "m = sm.OLS(adjSA['Deaths'], adjSA['Confirmed']).fit()\n",
    "m.summary()"
   ]
  },
  {
   "cell_type": "code",
   "execution_count": null,
   "metadata": {},
   "outputs": [],
   "source": [
    "dr = m.params[0] * 100\n",
    "print('Adjusting for time we find a death rate of {}%'.format(np.round(dr, 2)))"
   ]
  },
  {
   "cell_type": "markdown",
   "metadata": {},
   "source": [
    "---\n",
    "\n",
    "### Model 3\n",
    "#### Third most naive"
   ]
  },
  {
   "cell_type": "markdown",
   "metadata": {},
   "source": [
    "* No account for delays in reporting deaths or confirmed cases\n",
    "* Couch epidemiology"
   ]
  },
  {
   "cell_type": "markdown",
   "metadata": {},
   "source": [
    "Use the time adjusted dataframe and adjust for asymptomatic"
   ]
  },
  {
   "cell_type": "code",
   "execution_count": null,
   "metadata": {},
   "outputs": [],
   "source": [
    "asym = 0.4\n",
    "\n",
    "sym = 1 - asym\n",
    "\n",
    "print(f'Use an asymptomatic rate of {asym * 100}%')"
   ]
  },
  {
   "cell_type": "markdown",
   "metadata": {},
   "source": [
    "Adjusting for asymptomatic infected people is another difficulty.  "
   ]
  },
  {
   "cell_type": "code",
   "execution_count": null,
   "metadata": {},
   "outputs": [],
   "source": [
    "adjSA['Asymptomatic'] = np.floor(adjSA['Confirmed'] * asym / sym)\n",
    "adjSA['EstTotalInfected'] = adjSA['Confirmed'] + adjSA['Asymptomatic']\n",
    "adjSA.tail()"
   ]
  },
  {
   "cell_type": "code",
   "execution_count": null,
   "metadata": {},
   "outputs": [],
   "source": [
    "adjSA=adjSA[adjSA['EstTotalInfected'] > 0]\n",
    "plt.figure(figsize=(10,6))\n",
    "sns.regplot(x='EstTotalInfected', y='Deaths', data=adjSA);"
   ]
  },
  {
   "cell_type": "code",
   "execution_count": null,
   "metadata": {},
   "outputs": [],
   "source": [
    "m = sm.OLS(adjSA['Deaths'], adjSA['EstTotalInfected']).fit()\n",
    "m.summary()"
   ]
  },
  {
   "cell_type": "code",
   "execution_count": null,
   "metadata": {},
   "outputs": [],
   "source": [
    "dr = m.params[0] * 100\n",
    "print('The death rate adjusting for time and asymtomatic cases is {}%'.format(np.round(dr, 2)))"
   ]
  },
  {
   "cell_type": "markdown",
   "metadata": {},
   "source": [
    "---\n",
    "Many things not considered"
   ]
  },
  {
   "cell_type": "markdown",
   "metadata": {},
   "source": [
    "### Daily new"
   ]
  },
  {
   "cell_type": "code",
   "execution_count": null,
   "metadata": {},
   "outputs": [],
   "source": [
    "SAdf['NewConfirmed'] = SAdf['Confirmed'].diff()\n",
    "SAdf['NewDeaths'] = SAdf['Deaths'].diff()"
   ]
  },
  {
   "cell_type": "code",
   "execution_count": null,
   "metadata": {},
   "outputs": [],
   "source": [
    "plt.figure(figsize=(10,6))\n",
    "sns.lineplot(x='DaysFromFirst', y='NewDeaths', data=SAdf)\n",
    "sns.scatterplot(x='DaysFromFirst', y='NewDeaths', data=SAdf)\n",
    "sns.regplot(x='DaysFromFirst', y='NewDeaths', data=SAdf, lowess=True, scatter= False)\n",
    "plt.title('Number of new deaths in SA');"
   ]
  },
  {
   "cell_type": "code",
   "execution_count": null,
   "metadata": {},
   "outputs": [],
   "source": [
    "plt.figure(figsize=(10,6))\n",
    "sns.lineplot(x='DaysFromFirst', y='NewConfirmed', data=SAdf)\n",
    "sns.scatterplot(x='DaysFromFirst', y='NewConfirmed', data=SAdf)\n",
    "sns.regplot(x='DaysFromFirst', y='NewConfirmed', data=SAdf, lowess=True, scatter= False)\n",
    "plt.vlines(x=22, ymin=0, ymax=SAdf['NewConfirmed'].max(), linestyles=('dotted'), colors='grey')\n",
    "plt.text(22,SAdf['NewConfirmed'].max(), 'Lockdown')\n",
    "plt.title('Number of new confirmed SARS-COV2 cases in SA');"
   ]
  },
  {
   "cell_type": "code",
   "execution_count": null,
   "metadata": {},
   "outputs": [],
   "source": [
    "plt.figure(figsize=(10,6))\n",
    "sns.lineplot(x='DaysFromFirst', y='NewConfirmed', data=SAdf)\n",
    "sns.scatterplot(x='DaysFromFirst', y='NewConfirmed', data=SAdf)\n",
    "sns.regplot(x='DaysFromFirst', y='NewConfirmed', data=SAdf, lowess=True, scatter= False)\n",
    "plt.vlines(x=22, ymin=0, ymax=SAdf['NewConfirmed'].max(), linestyles=('dotted'), colors='grey')\n",
    "plt.text(22,SAdf['NewConfirmed'].max(), 'Lockdown')\n",
    "plt.yscale('log')\n",
    "plt.title('Number of new confirmed SARS-COV2 cases in SA');"
   ]
  },
  {
   "cell_type": "markdown",
   "metadata": {},
   "source": [
    "---\n",
    "\n",
    "---"
   ]
  }
 ],
 "metadata": {
  "kernelspec": {
   "display_name": "Python 3",
   "language": "python",
   "name": "python3"
  },
  "language_info": {
   "codemirror_mode": {
    "name": "ipython",
    "version": 3
   },
   "file_extension": ".py",
   "mimetype": "text/x-python",
   "name": "python",
   "nbconvert_exporter": "python",
   "pygments_lexer": "ipython3",
   "version": "3.7.6"
  }
 },
 "nbformat": 4,
 "nbformat_minor": 4
}
